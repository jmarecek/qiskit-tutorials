{
 "cells": [
  {
   "cell_type": "markdown",
   "metadata": {},
   "source": [
    "<img src=\"../../images/qiskit-heading.gif\" alt=\"Note: In order for images to show up in this jupyter notebook you need to select File => Trusted Notebook\" width=\"500 px\" align=\"left\">"
   ]
  },
  {
   "cell_type": "markdown",
   "metadata": {},
   "source": [
    "# Jupyter Tools for Terra"
   ]
  },
  {
   "cell_type": "markdown",
   "metadata": {},
   "source": [
    "In this section, we will learn how to monitor the status of jobs submitted to devices and simulators (collectively called backends), as well as discover how to easily query backend details and view the collective state of all the backends available to you."
   ]
  },
  {
   "cell_type": "markdown",
   "metadata": {
    "ExecuteTime": {
     "end_time": "2018-11-08T16:22:54.277808Z",
     "start_time": "2018-11-08T16:22:54.274313Z"
    }
   },
   "source": [
    "## Loading the Monitoring Tools"
   ]
  },
  {
   "cell_type": "markdown",
   "metadata": {},
   "source": [
    "First, let us load the default qiskit routines, and register our IBMQ credentials."
   ]
  },
  {
   "cell_type": "code",
   "execution_count": 1,
   "metadata": {},
   "outputs": [],
   "source": [
    "from qiskit import *\n",
    "IBMQ.load_accounts()"
   ]
  },
  {
   "cell_type": "markdown",
   "metadata": {},
   "source": [
    "Functions for monitoring jobs and backends are here:"
   ]
  },
  {
   "cell_type": "code",
   "execution_count": 2,
   "metadata": {},
   "outputs": [],
   "source": [
    "from qiskit.tools.monitor import job_monitor, backend_monitor, backend_overview"
   ]
  },
  {
   "cell_type": "markdown",
   "metadata": {},
   "source": [
    "If you are running inside a Jupyter notebook, then you will also need to have `ipywidgets` version `7.3.0` or higher installed.  These come pre-installed in Anaconda.  There are also Jupyter notebook 'magics' available for each of the abover functions.  The following will register those magics, making them ready for use."
   ]
  },
  {
   "cell_type": "code",
   "execution_count": 3,
   "metadata": {},
   "outputs": [],
   "source": [
    "from qiskit.tools.jupyter import *"
   ]
  },
  {
   "cell_type": "markdown",
   "metadata": {},
   "source": [
    "## Tracking Job Status"
   ]
  },
  {
   "cell_type": "markdown",
   "metadata": {},
   "source": [
    "Many times a job(s) submitted to the IBM Q network can take a long time to process, e.g. jobs with many circuits and/or shots, or may have to wait in queue for other users.  In situations such as these, it is beneficial to have a way of monitoring the progress of a job, or several jobs at once.  As of Qiskit `0.6+` it is possible to monitor the status of a job in a Jupyter notebook, and also in a Python script (verision `0.7+`).\n",
    "\n",
    "Lets see how to make use of these tools."
   ]
  },
  {
   "cell_type": "markdown",
   "metadata": {},
   "source": [
    "### Monitoring the status of a single job"
   ]
  },
  {
   "cell_type": "markdown",
   "metadata": {},
   "source": [
    "Lets build a simple Bell circuit, submit it to a device, and then monitor its status."
   ]
  },
  {
   "cell_type": "code",
   "execution_count": 4,
   "metadata": {},
   "outputs": [],
   "source": [
    "q = QuantumRegister(2)\n",
    "c = ClassicalRegister(2)\n",
    "qc = QuantumCircuit(q, c)\n",
    "\n",
    "qc.h(q[0])\n",
    "qc.cx(q[0], q[1])\n",
    "qc.measure(q, c);"
   ]
  },
  {
   "cell_type": "markdown",
   "metadata": {},
   "source": [
    "Lets grab the least busy backend"
   ]
  },
  {
   "cell_type": "code",
   "execution_count": 6,
   "metadata": {},
   "outputs": [
    {
     "data": {
      "text/plain": [
       "'ibmqx4'"
      ]
     },
     "execution_count": 6,
     "metadata": {},
     "output_type": "execute_result"
    }
   ],
   "source": [
    "from qiskit.providers.ibmq import least_busy\n",
    "backend = least_busy(IBMQ.backends(simulator=False))\n",
    "backend.name()"
   ]
  },
  {
   "cell_type": "markdown",
   "metadata": {},
   "source": [
    "Monitor the job using `job_monitor` in blocking-mode (i.e. using the same thread as the Python interpretor)"
   ]
  },
  {
   "cell_type": "code",
   "execution_count": 7,
   "metadata": {},
   "outputs": [
    {
     "data": {
      "application/vnd.jupyter.widget-view+json": {
       "model_id": "8af5f76b1a514aa7a2920460cc3ff35e",
       "version_major": 2,
       "version_minor": 0
      },
      "text/plain": [
       "HTML(value=\"<p style='font-size:16px;'>Job Status: job is being initialized </p>\")"
      ]
     },
     "metadata": {},
     "output_type": "display_data"
    }
   ],
   "source": [
    "job1 = execute(qc, backend)\n",
    "job_monitor(job1)"
   ]
  },
  {
   "cell_type": "markdown",
   "metadata": {},
   "source": [
    "Monitor the job using `job_monitor` in async-mode (Jupyter notebooks only).  The job will be monitored in a separate thread, allowing you to continue to work in the notebook."
   ]
  },
  {
   "cell_type": "code",
   "execution_count": 8,
   "metadata": {},
   "outputs": [
    {
     "data": {
      "application/vnd.jupyter.widget-view+json": {
       "model_id": "234d0f197e61423b864cc58e456243ab",
       "version_major": 2,
       "version_minor": 0
      },
      "text/plain": [
       "HTML(value=\"<p style='font-size:16px;'>Job Status: job is being initialized </p>\")"
      ]
     },
     "metadata": {},
     "output_type": "display_data"
    }
   ],
   "source": [
    "job2 = execute(qc, backend)\n",
    "job_monitor(job2, monitor_async=True)"
   ]
  },
  {
   "cell_type": "markdown",
   "metadata": {},
   "source": [
    "It is also possible to monitor the job using the `qiskit_job_status` Jupyter notebook magic.  This method is always asyncronous."
   ]
  },
  {
   "cell_type": "code",
   "execution_count": 9,
   "metadata": {},
   "outputs": [
    {
     "data": {
      "application/vnd.jupyter.widget-view+json": {
       "model_id": "fe5a93c3d61d475eb0efb522e399643b",
       "version_major": 2,
       "version_minor": 0
      },
      "text/plain": [
       "VBox(children=(HTML(value=\"<p style='font-size:16px;'>Job Status : job is being initialized </p>\"),))"
      ]
     },
     "metadata": {},
     "output_type": "display_data"
    }
   ],
   "source": [
    "%%qiskit_job_status\n",
    "job3 = execute(qc, backend)"
   ]
  },
  {
   "cell_type": "markdown",
   "metadata": {},
   "source": [
    "Note that, for the `qiskit_job_status` to work, the job returned by `execute` must be stored in a variable so that it may be retrieved by the magic."
   ]
  },
  {
   "cell_type": "markdown",
   "metadata": {},
   "source": [
    "### Monitoring many jobs simultaneously"
   ]
  },
  {
   "cell_type": "markdown",
   "metadata": {},
   "source": [
    "Here we will monitor many jobs sent the the device.  It is if the jobs are stored in a list to make retrevial easier."
   ]
  },
  {
   "cell_type": "code",
   "execution_count": 10,
   "metadata": {},
   "outputs": [
    {
     "data": {
      "application/vnd.jupyter.widget-view+json": {
       "model_id": "59fa74a19f5447738024947308be7b5b",
       "version_major": 2,
       "version_minor": 0
      },
      "text/plain": [
       "HTML(value=\"<p style='font-size:16px;'>Job Status: job is being initialized </p>\")"
      ]
     },
     "metadata": {},
     "output_type": "display_data"
    },
    {
     "data": {
      "application/vnd.jupyter.widget-view+json": {
       "model_id": "563c5fb30db044b6bb783567812d47be",
       "version_major": 2,
       "version_minor": 0
      },
      "text/plain": [
       "HTML(value=\"<p style='font-size:16px;'>Job Status: job is being initialized </p>\")"
      ]
     },
     "metadata": {},
     "output_type": "display_data"
    },
    {
     "data": {
      "application/vnd.jupyter.widget-view+json": {
       "model_id": "0a09de7d7409492db31e62c74e49bea1",
       "version_major": 2,
       "version_minor": 0
      },
      "text/plain": [
       "HTML(value=\"<p style='font-size:16px;'>Job Status: job is being initialized </p>\")"
      ]
     },
     "metadata": {},
     "output_type": "display_data"
    },
    {
     "data": {
      "application/vnd.jupyter.widget-view+json": {
       "model_id": "a843dddda31e4935af43161444e44b0e",
       "version_major": 2,
       "version_minor": 0
      },
      "text/plain": [
       "HTML(value=\"<p style='font-size:16px;'>Job Status: job is being initialized </p>\")"
      ]
     },
     "metadata": {},
     "output_type": "display_data"
    },
    {
     "data": {
      "application/vnd.jupyter.widget-view+json": {
       "model_id": "4c579532a3804429842481284c42e01c",
       "version_major": 2,
       "version_minor": 0
      },
      "text/plain": [
       "HTML(value=\"<p style='font-size:16px;'>Job Status: job is being initialized </p>\")"
      ]
     },
     "metadata": {},
     "output_type": "display_data"
    }
   ],
   "source": [
    "num_jobs = 5\n",
    "my_jobs = []\n",
    "for j in range(num_jobs):\n",
    "    my_jobs.append(execute(qc, backend))\n",
    "    job_monitor(my_jobs[j], monitor_async=True)"
   ]
  },
  {
   "cell_type": "markdown",
   "metadata": {},
   "source": [
    "Or, using magic:"
   ]
  },
  {
   "cell_type": "code",
   "execution_count": 11,
   "metadata": {},
   "outputs": [
    {
     "data": {
      "application/vnd.jupyter.widget-view+json": {
       "model_id": "f6c5472ef9554dac9e581aa03f32de13",
       "version_major": 2,
       "version_minor": 0
      },
      "text/plain": [
       "VBox(children=(HTML(value=\"<p style='font-size:16px;'>Job Status [0]: job is being initialized </p>\"), HTML(va…"
      ]
     },
     "metadata": {},
     "output_type": "display_data"
    }
   ],
   "source": [
    "%%qiskit_job_status\n",
    "my_jobs2 = []\n",
    "for j in range(num_jobs):\n",
    "    my_jobs2.append(execute(qc, backend))"
   ]
  },
  {
   "cell_type": "markdown",
   "metadata": {},
   "source": [
    "In the magics example, the magic is smart enough to know that the list `my_jobs2` contains jobs, and will automatically extract them and check their status.  We are not limited to using `jobs.append()`, and can use an indexed list or NumPy array as well:"
   ]
  },
  {
   "cell_type": "code",
   "execution_count": 12,
   "metadata": {},
   "outputs": [
    {
     "data": {
      "application/vnd.jupyter.widget-view+json": {
       "model_id": "f1d800fb4a5a4c0ea2ff0b7d4295efdf",
       "version_major": 2,
       "version_minor": 0
      },
      "text/plain": [
       "VBox(children=(HTML(value=\"<p style='font-size:16px;'>Job Status [0]: job is being initialized </p>\"), HTML(va…"
      ]
     },
     "metadata": {},
     "output_type": "display_data"
    }
   ],
   "source": [
    "%%qiskit_job_status\n",
    "import numpy as np\n",
    "my_jobs3 = np.empty(num_jobs, dtype=object)\n",
    "for j in range(num_jobs):\n",
    "    my_jobs3[j] = execute(qc, backend)"
   ]
  },
  {
   "cell_type": "markdown",
   "metadata": {},
   "source": [
    "### Changing the interval of status updating"
   ]
  },
  {
   "cell_type": "markdown",
   "metadata": {},
   "source": [
    "By default, the interval at which the job status is checked is every two seconds.  However, the user is free to change this using the `interval` keyword argument in `job_monitor`"
   ]
  },
  {
   "cell_type": "code",
   "execution_count": 13,
   "metadata": {},
   "outputs": [
    {
     "data": {
      "application/vnd.jupyter.widget-view+json": {
       "model_id": "b806e23f059647d191c5b57280d2d4db",
       "version_major": 2,
       "version_minor": 0
      },
      "text/plain": [
       "HTML(value=\"<p style='font-size:16px;'>Job Status: job is being initialized </p>\")"
      ]
     },
     "metadata": {},
     "output_type": "display_data"
    }
   ],
   "source": [
    "job3 = execute(qc, backend)\n",
    "job_monitor(job3, interval=5)"
   ]
  },
  {
   "cell_type": "markdown",
   "metadata": {},
   "source": [
    "and the `-i` or `--interval` arguments to the Jupyter magic."
   ]
  },
  {
   "cell_type": "code",
   "execution_count": 14,
   "metadata": {},
   "outputs": [
    {
     "data": {
      "application/vnd.jupyter.widget-view+json": {
       "model_id": "00945eee51904433ab95d7107af7b82e",
       "version_major": 2,
       "version_minor": 0
      },
      "text/plain": [
       "VBox(children=(HTML(value=\"<p style='font-size:16px;'>Job Status : job is being initialized </p>\"),))"
      ]
     },
     "metadata": {},
     "output_type": "display_data"
    }
   ],
   "source": [
    "%%qiskit_job_status -i 5\n",
    "job4 = execute(qc, backend)"
   ]
  },
  {
   "cell_type": "code",
   "execution_count": 15,
   "metadata": {},
   "outputs": [
    {
     "data": {
      "application/vnd.jupyter.widget-view+json": {
       "model_id": "14092fb4fe2e4b158907575fd288ca29",
       "version_major": 2,
       "version_minor": 0
      },
      "text/plain": [
       "VBox(children=(HTML(value=\"<p style='font-size:16px;'>Job Status : job is being initialized </p>\"),))"
      ]
     },
     "metadata": {},
     "output_type": "display_data"
    }
   ],
   "source": [
    "%%qiskit_job_status --interval 5\n",
    "job5 = execute(qc, backend)"
   ]
  },
  {
   "cell_type": "markdown",
   "metadata": {},
   "source": [
    "## Backend Details"
   ]
  },
  {
   "cell_type": "markdown",
   "metadata": {},
   "source": [
    "So far we have been executing our jobs on a backend, but we have explored the backends in any detail.  For example, we have found the least busy backend, but do not know if this is the best backend with respect to gate errors, topology etc.  It is possible to get detailed information for a single backend by calling `backend_monitor`:"
   ]
  },
  {
   "cell_type": "code",
   "execution_count": 16,
   "metadata": {},
   "outputs": [
    {
     "name": "stdout",
     "output_type": "stream",
     "text": [
      "ibmqx4\n",
      "======\n",
      "Configuration\n",
      "-------------\n",
      "    n_qubits: 5\n",
      "    operational: True\n",
      "    status_msg: active\n",
      "    pending_jobs: 4\n",
      "    basis_gates: ['u1', 'u2', 'u3', 'cx', 'id']\n",
      "    local: False\n",
      "    simulator: False\n",
      "    open_pulse: False\n",
      "    credits_required: True\n",
      "    conditional: False\n",
      "    max_experiments: 75\n",
      "    max_shots: 8192\n",
      "    coupling_map: [[1, 0], [2, 0], [2, 1], [3, 2], [3, 4], [4, 2]]\n",
      "    sample_name: raven\n",
      "    description: 5 qubit device\n",
      "    n_registers: 1\n",
      "    memory: True\n",
      "    url: None\n",
      "    backend_version: 1.0.0\n",
      "    backend_name: ibmqx4\n",
      "    online_date: 2018-11-06T05:00:00+00:00\n",
      "    allow_q_object: True\n",
      "\n",
      "Qubits [Name / Freq / T1 / T2 / U1 err / U2 err / U3 err / Readout err]\n",
      "-----------------------------------------------------------------------\n",
      "    Q0 / 5.24985 GHz / 52.87796 µs / 45.91462 µs / 0.0 / 0.00077 / 0.00155 / 0.06025\n",
      "    Q1 / 5.29578 GHz / 52.18911 µs / 19.45196 µs / 0.0 / 0.00197 / 0.00395 / 0.07425\n",
      "    Q2 / 5.35325 GHz / 42.88025 µs / 29.48086 µs / 0.0 / 0.00163 / 0.00326 / 0.02925\n",
      "    Q3 / 5.43494 GHz / 46.88035 µs / 17.74449 µs / 0.0 / 0.00189 / 0.00378 / 0.023\n",
      "    Q4 / 5.17582 GHz / 41.22472 µs / 11.09655 µs / 0.0 / 0.00335 / 0.0067 / 0.07525\n",
      "\n",
      "Multi-Qubit Gates [Name / Type / Gate Error]\n",
      "--------------------------------------------\n",
      "    CX1_0 / cx / 0.03639\n",
      "    CX2_0 / cx / 0.02608\n",
      "    CX2_1 / cx / 0.04075\n",
      "    CX3_2 / cx / 0.06022\n",
      "    CX3_4 / cx / 0.04131\n",
      "    CX4_2 / cx / 0.06126\n"
     ]
    }
   ],
   "source": [
    "backend_monitor(backend)"
   ]
  },
  {
   "cell_type": "markdown",
   "metadata": {},
   "source": [
    "Or, if we are interested in a higher-level view of all the backends available to us, then we can use `backend_overview()`"
   ]
  },
  {
   "cell_type": "code",
   "execution_count": 17,
   "metadata": {},
   "outputs": [
    {
     "name": "stdout",
     "output_type": "stream",
     "text": [
      "ibmq_20_tokyo               ibmq_16_melbourne            ibmqx4\n",
      "-------------               -----------------            ------\n",
      "Num. Qubits:  20            Num. Qubits:  14             Num. Qubits:  5\n",
      "Pending Jobs: 0             Pending Jobs: 3              Pending Jobs: 6\n",
      "Least busy:   True          Least busy:   False          Least busy:   False\n",
      "Operational:  True          Operational:  True           Operational:  True\n",
      "Avg. T1:      86.9          Avg. T1:      50.3           Avg. T1:      47.2\n",
      "Avg. T2:      55.3          Avg. T2:      63.0           Avg. T2:      24.7\n",
      "\n",
      "\n",
      "\n"
     ]
    }
   ],
   "source": [
    "backend_overview()"
   ]
  },
  {
   "cell_type": "markdown",
   "metadata": {},
   "source": [
    "There are also Jupyter magic equivalents that give more detailed information."
   ]
  },
  {
   "cell_type": "code",
   "execution_count": 18,
   "metadata": {},
   "outputs": [
    {
     "name": "stderr",
     "output_type": "stream",
     "text": [
      "/Users/jaygambetta/gitshare/qiskit-terra/qiskit/providers/ibmq/ibmqbackend.py:180: DeprecationWarning: Some jobs (281) are in a no-longer supported format. These jobs will stop working after Qiskit 0.7. Save the results or send the job with Qiskit 0.7+. Old jobs:\n",
      " - 5c156b801d475200611467ee\n",
      " - 5c156b2a737f7600571ec66a\n",
      " - 5c156a49557dff00576be243\n",
      " - 5c15694eee03b40054b35f45\n",
      " - 5c156921f07ad5005c5df729\n",
      " - 5c156877a57edb00531278e1\n",
      " - 5c156851ed804c00561942b7\n",
      " - 5c15682513eb0c005321c326\n",
      " - 5c156762d38acd00557c9bda\n",
      " - 5c15672a737f7600571ec65e\n",
      " - 5c1565fded804c00561942ac\n",
      " - 5c1564ccaa0f280056346f61\n",
      " - 5c15559ba57edb00531278ae\n",
      " - 5c0ac161751a790052faca8e\n",
      " - 5c0ac01d1d0f11005de5d7c1\n",
      " - 5c0abee6ab6cf6005c8d312c\n",
      " - 5bfe0ec5c9630c0055d26435\n",
      " - 5bfe0e0f3626d5005e226360\n",
      " - 5be8f55b28716d00547b70ad\n",
      " - 5be8f54e9a9893006ff69200\n",
      " - 5be8f39c54dacb0059c2b0db\n",
      " - 5be8f394afd471005540d4d7\n",
      " - 5be8ae5e17436b0052751909\n",
      " - 5be748a7e00f60005ad7f23d\n",
      " - 5be746e3d4d36f0054595d60\n",
      " - 5bc3e88d404ceb006174af14\n",
      " - 5bc3e84b21da3300548def31\n",
      " - 5bc3e2f6860686005e02231e\n",
      " - 5bc3e1f621da3300548def27\n",
      " - 5bc3dff65b5a470061ad9e40\n",
      " - 5bc3dfe14a2574005fdb3c45\n",
      " - 5bc3df65c2c7f6005ff968e8\n",
      " - 5bc3df3821da3300548def23\n",
      " - 5bc3ded8249a3c006799e341\n",
      " - 5bc3de9f942db700650521f6\n",
      " - 5bc2a4315b5a470061ad9aa0\n",
      " - 5bc29dd921da3300548deafe\n",
      " - 5bc29d8bee99500060e0dfdb\n",
      " - 5bc29d5960af9300675db78b\n",
      " - 5bb15f0d2cc5e80038795517\n",
      " - 5bb15ebccb2b78003912b463\n",
      " - 5bb15de947fe5e0042fb2e0f\n",
      " - 5bb15dcb6744c7003942d56d\n",
      " - 5bb15d7d2cc5e80038795510\n",
      " - 5bb159562878c20039998f27\n",
      " - 5bb1542a5fa98d003c0a9428\n",
      " - 5bb14d0e7759d400407f5c66\n",
      " - 5bb14c357759d400407f5c63\n",
      " - 5bb1462d2cc5e80038795491\n",
      " - 5bb1460c07fb5400519d1c68\n",
      " - 5ba567ae90285c0037809333\n",
      " - 5ba5605a8a925c003f901d38\n",
      " - 5ba55a070d743f0050ffee9e\n",
      " - 5ba559bdfa913100395ac396\n",
      " - 5ba557d220996b003bf17b30\n",
      " - 5ba551fcc6106f003cb4fd59\n",
      " - 5ba54ea523cfc7003c64a0f2\n",
      " - 5ba54e51fa913100395ac338\n",
      " - 5ba54c59e71ae70042e0117c\n",
      " - 5ba309cf7a6a570039fc1547\n",
      " - 5ba3083fe19f200039abfc4f\n",
      " - 5b988abb3a92f6003a02ec78\n",
      " - 5b6e22501d4b000045d04a0b\n",
      " - 5b6e2087f898a1003ae6d683\n",
      " - 5b6e20721d4b000045d04a02\n",
      " - 5b6e1ff1f898a1003ae6d681\n",
      " - 5b6e1f8cb127f500382924c0\n",
      " - 5b68a2b3358efc0039e47b89\n",
      " - 5b686a35a35320004b5cdf6c\n",
      " - 5b68634b05757400389ea560\n",
      " - 5b686059b2e101003a4ba943\n",
      " - 5b686031f9b81b00364b2230\n",
      " - 5b685acef9b81b00364b221f\n",
      " - 5b683987113f850038b76c50\n",
      " - 5b683979e09a8f003b0ef580\n",
      " - 5b68393ea35320004b5cde66\n",
      " - 5b67dfcd8fb0a1003d8a3f92\n",
      " - 5b67df7bd3234c0038778adf\n",
      " - 5b67de53d26f0f0039cf90fa\n",
      " - 5b67d93c1d4b000045d03149\n",
      " - 5b67c2311d4b000045d03114\n",
      " - 5b67c1de4217e60038b3f34d\n",
      " - 5b67bdf7f79b7200366a2603\n",
      " - 5b67bd6ba35320004b5cdd2c\n",
      " - 5b5f59fda98e23003a622225\n",
      " - 5b50dcd6b221ab0039ab6188\n",
      " - 5b50d2160e4c1c00404c89a6\n",
      " - 5b50c27bcc3090004e016f93\n",
      " - 5b50a09f3382e6003c7d0f80\n",
      " - 5b4fa6e238fe5e003e1d2303\n",
      " - 5b4f7f2ba90c3f003f7e40d8\n",
      " - 5b4eacaf58e3fb00384b4c84\n",
      " - 5b4eac59b221ab0039ab5185\n",
      " - 5b4eac2211322d003bf0e806\n",
      " - 5b4eab9f58e3fb00384b4c80\n",
      " - 5b4ea163fc5378003bf3cf3a\n",
      " - 5b4e8f9a177df5003bf44c57\n",
      " - 5b492083f5c60500377a1158\n",
      " - 5b491fab58e3fb00384b3279\n",
      " - 5b491f69177df5003bf43169\n",
      " - 5b491f5038fe5e003e1d02b2\n",
      " - 5b49195788ab3700472094d0\n",
      " - 5b4918cc88ab37004720949d\n",
      " - 5b4916821deae90038493c64\n",
      " - 5b49167b58e3fb00384b3223\n",
      " - 5b491669e036a500391bd7cb\n",
      " - 5b4916520e4c1c00404c600e\n",
      " - 5b4915fd58e3fb00384b321d\n",
      " - 5b4915d211322d003bf0cc0f\n",
      " - 5b17dbac3092d6003cacef7d\n",
      " - 5b17bdd7e8beb60042becebb\n",
      " - 5b1750742c62ef003ba379a2\n",
      " - 5af9a01594ac68003debd730\n",
      " - 5af9a04594ac68003debea52\n",
      " - 5af9a01494ac68003debd6eb\n",
      " - 5af9a04294ac68003debe917\n",
      " - 5af9a03194ac68003debe4cc\n",
      " - 5af9a04594ac68003debea57\n",
      " - 5af9a04294ac68003debe8f4\n",
      " - 5af9a02b94ac68003debe1d5\n",
      " - 5af9a04d94ac68003debec09\n",
      " - 5af9a02a94ac68003debe11b\n",
      " - 5af9a00694ac68003debd24a\n",
      " - 5af9a01c94ac68003debda43\n",
      " - 5af9a01094ac68003debd5ab\n",
      " - 5af9a03294ac68003debe5a2\n",
      " - 5af99f9e94ac68003debba1f\n",
      " - 5af9a03194ac68003debe4c6\n",
      " - 5af9a03194ac68003debe4de\n",
      " - 5af9a02e94ac68003debe389\n",
      " - 5af9a01b94ac68003debd99b\n",
      " - 5af99ffb94ac68003debcede\n",
      " - 5af9a02594ac68003debdecd\n",
      " - 5af9a02e94ac68003debe339\n",
      " - 5af9a01b94ac68003debd97d\n",
      " - 5af9a03094ac68003debe436\n",
      " - 5af9a03294ac68003debe5c7\n",
      " - 5af9a02394ac68003debde07\n",
      " - 5af99fca94ac68003debbf3b\n",
      " - 5af99fb494ac68003debbbcf\n",
      " - 5af9a05a94ac68003debf056\n",
      " - 5af9a04294ac68003debe8fc\n",
      " - 5af9a05b94ac68003debf05c\n",
      " - 5af99fdf94ac68003debc72b\n",
      " - 5af9a03594ac68003debe69c\n",
      " - 5af9a05794ac68003debeee3\n",
      " - 5af9a02294ac68003debdd11\n",
      " - 5af9a02294ac68003debdd32\n",
      " - 5af9a02294ac68003debdd36\n",
      " - 5af9a01f94ac68003debdb9a\n",
      " - 5af99fd394ac68003debc1a6\n",
      " - 5af9a01e94ac68003debdb19\n",
      " - 5af99fba94ac68003debbc6f\n",
      " - 5af99fdc94ac68003debc5ab\n",
      " - 5af99fc294ac68003debbd3e\n",
      " - 5af99fe894ac68003debc982\n",
      " - 5ae91de40f020500399c7c94\n",
      " - 5ae91cec0f020500399c374a\n",
      " - 5ae915240f020500399788fb\n",
      " - 5ae91d010f020500399c3dac\n",
      " - 5ae91dbe0f020500399c7446\n",
      " - 5ae91b250f020500399b3dfa\n",
      " - 5ae9151e0f0205003997838e\n",
      " - 5ae91cdb0f020500399c2f7e\n",
      " - 5ae9151e0f0205003997838f\n",
      " - 5ae91dee0f020500399c7d8a\n",
      " - 5ae91e3a0f020500399c9046\n",
      " - 5ae91e3a0f020500399c9056\n",
      " - 5ae915060f02050039977add\n",
      " - 5ae91d010f020500399c3da9\n",
      " - 5ae91dbe0f020500399c743d\n",
      " - 5ae91e320f020500399c8d0a\n",
      " - 5ae91db50f020500399c729a\n",
      " - 5ae91db50f020500399c729c\n",
      " - 5ae91da70f020500399c6e7e\n",
      " - 5ae91dee0f020500399c7d78\n",
      " - 5ae91af20f020500399b1d40\n",
      " - 5ae91e3a0f020500399c9040\n",
      " - 5ae91dcc0f020500399c78db\n",
      " - 5ae91e120f020500399c861a\n",
      " - 5ae91dc30f020500399c75f7\n",
      " - 5ae91d440f020500399c59a9\n",
      " - 5ae91bf70f020500399ba176\n",
      " - 5ae91bdd0f020500399b923f\n",
      " - 5ae91bde0f020500399b925a\n",
      " - 5ae91ce30f020500399c3370\n",
      " - 5ae91a790f020500399ae047\n",
      " - 5ae914160f0205003996cf02\n",
      " - 5ae91c390f020500399bc7b4\n",
      " - 5ae91ce00f020500399c31bd\n",
      " - 5ae914160f0205003996cef9\n",
      " - 5ae91c250f020500399bb80d\n",
      " - 5ae91c9f0f020500399c0ea4\n",
      " - 5ae91c2e0f020500399bbef7\n",
      " - 5ae91c620f020500399be48e\n",
      " - 5ae916c30f02050039987e50\n",
      " - 5ae91a150f020500399aa37d\n",
      " - 5ae91bba0f020500399b83ae\n",
      " - 5ae91ada0f020500399b0cda\n",
      " - 5ae91afb0f020500399b2386\n",
      " - 5ae91d330f020500399c5135\n",
      " - 5ae91be00f020500399b93cf\n",
      " - 5ae916710f02050039983c93\n",
      " - 5ae91d410f020500399c58cb\n",
      " - 5ae91d230f020500399c4624\n",
      " - 5ae91d200f020500399c44a7\n",
      " - 5ae91b080f020500399b2aa8\n",
      " - 5ae91bb00f020500399b7ca1\n",
      " - 5ae9166d0f0205003998398c\n",
      " - 5ae914580f020500399705b5\n",
      " - 5ae91bb00f020500399b7c98\n",
      " - 5ae91cb80f020500399c1d70\n",
      " - 5ae91aea0f020500399b1894\n",
      " - 5ae91bb00f020500399b7ca8\n",
      " - 5ae91a150f020500399aa38f\n",
      " - 5ae9142b0f0205003996de91\n",
      " - 5ae918260f020500399971fa\n",
      " - 5ae919690f020500399a474c\n",
      " - 5ae902de0f020500398de1cf\n",
      " - 5ae917900f0205003999138e\n",
      " - 5ae918ff0f020500399a04e9\n",
      " - 5ae9184e0f02050039999086\n",
      " - 5ae919010f020500399a059d\n",
      " - 5ae918f00f0205003999fb8e\n",
      " - 5ae9182e0f02050039997838\n",
      " - 5ae90eaa0f0205003993ad6d\n",
      " - 5ae917ea0f02050039995384\n",
      " - 5ae919220f020500399a16d9\n",
      " - 5ae918430f02050039998981\n",
      " - 5ae919010f020500399a05b4\n",
      " - 5ae917d80f020500399947d2\n",
      " - 5ae90e490f02050039936a53\n",
      " - 5ae913220f020500399639c4\n",
      " - 5ae912ff0f02050039962a2e\n",
      " - 5ae9151a0f02050039978125\n",
      " - 5ae919370f020500399a24fe\n",
      " - 5ae919380f020500399a25c4\n",
      " - 5ae919420f020500399a2ccb\n",
      " - 5ae916a40f0205003998648b\n",
      " - 5ae9156e0f0205003997b62c\n",
      " - 5ae9168d0f020500399850db\n",
      " - 5ae9156e0f0205003997b62e\n",
      " - 5ae917ae0f02050039992e13\n",
      " - 5ae911940f02050039955bfa\n",
      " - 5ae911e00f02050039958dc5\n",
      " - 5ae911df0f02050039958d37\n",
      " - 5ae911e00f02050039958dc8\n",
      " - 5ae917970f02050039991a90\n",
      " - 5ae9189a0f0205003999ccb4\n",
      " - 5ae914720f02050039971940\n",
      " - 5ae9189a0f0205003999ccaa\n",
      " - 5ae910cf0f0205003994e926\n",
      " - 5ae9146b0f020500399713bd\n",
      " - 5ae90c150f02050039928d31\n",
      " - 5ae90c120f02050039928b98\n",
      " - 5ae90f490f020500399413ba\n",
      " - 5ae912840f0205003995e963\n",
      " - 5ae90f490f020500399413a9\n",
      " - 5ae918a30f0205003999d3bb\n",
      " - 5ae910990f0205003994bfb8\n",
      " - 5ae90f560f02050039941ec5\n",
      " - 5ae916c60f02050039988167\n",
      " - 5ae910430f0205003994957a\n",
      " - 5ae913900f020500399680f6\n",
      " - 5ae910160f0205003994796b\n",
      " - 5ae918730f0205003999afc5\n",
      " - 5ae918710f0205003999ae38\n",
      " - 5ae9104b0f02050039949ac1\n",
      " - 5ae911720f0205003995422c\n",
      " - 5ae9183d0f020500399984d2\n",
      " - 5ae910080f0205003994722c\n",
      " - 5ae913960f020500399684d2\n",
      " - 5ae910080f0205003994723c\n",
      " - 5ae91c0f0f020500399bac0a\n",
      " - 5ae90b220f02050039921f02\n",
      " - 5ae916020f0205003997e785\n",
      " - 5ae913950f02050039968411\n",
      " - 5ae90b9e0f0205003992510e\n",
      " - 5ae90b220f02050039921efb\n",
      " - 5ae90eab0f0205003993ae33\n",
      " - 5ae90b5f0f02050039923e28\n",
      "  DeprecationWarning)\n"
     ]
    },
    {
     "data": {
      "application/vnd.jupyter.widget-view+json": {
       "model_id": "e4bf0f57766f4203896774b40cecaed9",
       "version_major": 2,
       "version_minor": 0
      },
      "text/plain": [
       "VBox(children=(HTML(value=\"<h1 style='color:#ffffff;background-color:#000000;padding-top: 1%;padding-bottom: 1…"
      ]
     },
     "metadata": {},
     "output_type": "display_data"
    }
   ],
   "source": [
    "%qiskit_backend_monitor backend"
   ]
  },
  {
   "cell_type": "markdown",
   "metadata": {},
   "source": [
    "The Jupyter `backend_overview` runs live in the notebook, and will automatically update itself every minute."
   ]
  },
  {
   "cell_type": "code",
   "execution_count": 19,
   "metadata": {},
   "outputs": [
    {
     "data": {
      "application/vnd.jupyter.widget-view+json": {
       "model_id": "800cde30b4004e619bc5488054273366",
       "version_major": 2,
       "version_minor": 0
      },
      "text/plain": [
       "VBox(children=(HTML(value=\"<h2 style ='color:#ffffff; background-color:#000000;padding-top: 1%; padding-bottom…"
      ]
     },
     "metadata": {},
     "output_type": "display_data"
    }
   ],
   "source": [
    "%qiskit_backend_overview"
   ]
  },
  {
   "cell_type": "code",
   "execution_count": null,
   "metadata": {},
   "outputs": [],
   "source": []
  }
 ],
 "metadata": {
  "hide_input": false,
  "kernelspec": {
   "display_name": "Python 3",
   "language": "python",
   "name": "python3"
  },
  "language_info": {
   "codemirror_mode": {
    "name": "ipython",
    "version": 3
   },
   "file_extension": ".py",
   "mimetype": "text/x-python",
   "name": "python",
   "nbconvert_exporter": "python",
   "pygments_lexer": "ipython3",
   "version": "3.6.7"
  }
 },
 "nbformat": 4,
 "nbformat_minor": 2
}
